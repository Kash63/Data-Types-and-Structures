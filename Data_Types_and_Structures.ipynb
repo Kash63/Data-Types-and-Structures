{
  "nbformat": 4,
  "nbformat_minor": 0,
  "metadata": {
    "colab": {
      "provenance": []
    },
    "kernelspec": {
      "name": "python3",
      "display_name": "Python 3"
    },
    "language_info": {
      "name": "python"
    }
  },
  "cells": [
    {
      "cell_type": "markdown",
      "source": [
        "**THEORY QUESTIONS**"
      ],
      "metadata": {
        "id": "QzpQUkaXY8ZR"
      }
    },
    {
      "cell_type": "markdown",
      "source": [
        "1.  What are data structures, and why are they important?\n",
        "> Data structures are specialized formats for organizing, managing, and storing data in a computer so that it can be accessed and 1  used efficiently.\n",
        "\n",
        "> Importance: They enable the creation of efficient algorithms and the development of complex software applications by providing a structured way to handle large amounts of information. Choosing the appropriate data structure significantly impacts the performance and scalability of programs, making them crucial for tasks ranging from simple data storage to complex operations in databases, operating systems, artificial intelligence, and more.\n"
      ],
      "metadata": {
        "id": "5vhorqrGRvbQ"
      }
    },
    {
      "cell_type": "markdown",
      "source": [
        "2.  Explain the difference between mutable and immutable data types with examples.\n",
        "> Mutable data types are those whose state can be modified after they are created, meaning you can change their contents directly without creating a new object. In contrast, immutable data types are those whose state cannot be changed after creation; any operation that appears to modify an immutable object actually creates a new object with the modified value. 1  For example, in Python, lists are mutable, so you can add, remove, or change elements within an existing list. On the other hand, strings and tuples are immutable; if you want to change a string or tuple, you have to create a new one with the desired modifications.\n"
      ],
      "metadata": {
        "id": "e_jV_r7JSaAo"
      }
    },
    {
      "cell_type": "markdown",
      "source": [
        "3. What are the main differences between lists and tuples in Python?\n",
        "> In Python, lists and tuples are both ordered sequences used to store collections of items, but they differ primarily in their mutability and the syntax used to define them. Lists are mutable, meaning their elements can be changed, added, or removed after creation, and they are defined using square brackets []. Conversely, tuples are immutable, so once created, their elements cannot be modified, and they are typically defined using parentheses (). This immutability makes tuples suitable for representing fixed collections of items, like coordinates or records, and can offer slight performance advantages in certain scenarios.\n"
      ],
      "metadata": {
        "id": "x9T_bDMLSndI"
      }
    },
    {
      "cell_type": "markdown",
      "source": [
        "4. Describe how dictionaries store data.\n",
        "> Dictionaries in Python store data as key-value pairs, where each unique key is associated with a corresponding value. 1  This structure allows for efficient retrieval of values based on their keys, similar to how you would look up a word in a physical dictionary. 2  When you want to access a specific piece of data in a dictionary, you use its key, and the dictionary quickly returns the associated value. 3  Internally, dictionaries often use a technique called hashing to map keys to specific memory locations, enabling fast lookups, insertions, and deletions, making them highly effective for managing and accessing data based on unique identifiers.\n"
      ],
      "metadata": {
        "id": "foRovkweS3zf"
      }
    },
    {
      "cell_type": "markdown",
      "source": [
        "5. Why might you use a set instead of a list in Python?\n",
        "> When you need to store a collection of unique elements and the order of those elements is not important. Sets automatically handle the removal of duplicate entries, ensuring that each item appears only once."
      ],
      "metadata": {
        "id": "BgMUJLIZTGDe"
      }
    },
    {
      "cell_type": "markdown",
      "source": [
        "6. What is a string in Python, and how is it different from a list?\n",
        ">  Lists are mutable, capable of holding a collection of items of various data types, and their elements can be modified, added, or removed. Strings, on the other hand, are specifically designed for textual data and are immutable sequences of characters."
      ],
      "metadata": {
        "id": "uhrXrOUmTWEw"
      }
    },
    {
      "cell_type": "markdown",
      "source": [
        "7.  How do tuples ensure data integrity in Python?\n",
        "> Once a tuple is created, the elements it contains cannot be modified, added, or removed. This characteristic guarantees that the data within the tuple remains constant throughout the program's execution. 1"
      ],
      "metadata": {
        "id": "KrEwbv2lTpy_"
      }
    },
    {
      "cell_type": "markdown",
      "source": [
        "8. What is a hash table, and how does it relate to dictionaries in Python?\n",
        "> A hash table is a data structure that implements an associative array, also known as a map or dictionary. It works by using a hash function to compute an index (a \"hash code\") for each key, which then determines the location where the corresponding value is stored in an underlying array.\n",
        "\n",
        "> Relation: dictionaries are implemented using hash tables. When you create a dictionary, Python uses a hash function to calculate a hash code for each key you provide. This hash code is then used to determine where the associated value is stored internally."
      ],
      "metadata": {
        "id": "QbvEKYwOT6R3"
      }
    },
    {
      "cell_type": "markdown",
      "source": [
        "9. Can lists contain different data types in Python?\n",
        "> Yes."
      ],
      "metadata": {
        "id": "5EY9-8hJUVKX"
      }
    },
    {
      "cell_type": "markdown",
      "source": [
        "10. Explain why strings are immutable in Python.\n",
        "> Strings are immutable in Python primarily for reasons of efficiency and design simplicity. Immutability allows Python to optimize memory allocation for strings. When you create a string literal, Python might reuse the same memory location if an identical string already exists in memory, a process called interning. This optimization can save significant memory, especially in programs that handle a lot of textual data."
      ],
      "metadata": {
        "id": "QF6FUAJAUj23"
      }
    },
    {
      "cell_type": "markdown",
      "source": [
        "11. What advantages do dictionaries offer over lists for certain tasks?\n",
        "> Advantages:\n",
        "\n",
        "Fast lookups (key-based access)\n",
        "\n",
        "Efficient insertion and deletion (key-based)\n",
        "\n",
        "Uniqueness of keys\n",
        "\n",
        "Suitable for key-value relationships"
      ],
      "metadata": {
        "id": "cz5GwDPyUxkX"
      }
    },
    {
      "cell_type": "markdown",
      "source": [
        "12.  Describe a scenario where using a tuple would be preferable over a list.\n",
        "> Scenarios where the elements should be fixed.\n",
        "\n",
        "> Example: A point in a 2D plane, such as (x, y). Since the coordinates of a specific point are typically fixed and should not be accidentally altered, a tuple is a more suitable choice than a list. Using a tuple (3, 5) clearly signals that these two values together represent a single, unchanging entity. If you used a list [3, 5], there's a risk that some part of the program might unintentionally modify one of the coordinate values.>"
      ],
      "metadata": {
        "id": "SrSffLCsVWJv"
      }
    },
    {
      "cell_type": "markdown",
      "source": [
        "13.  How do sets handle duplicate values in Python?\n",
        "> Sets in Python inherently handle duplicate values by automatically discarding any subsequent attempts to add an element that is already present in the set. 1  When you try to insert a value that already exists, the set remains unchanged, effectively ensuring that each element within a set is unique. 2  This behavior is a fundamental characteristic of sets, stemming from their mathematical definition as a collection of distinct objects. Python's set implementation leverages this property to provide efficient membership testing and operations on unique collections of data.\n"
      ],
      "metadata": {
        "id": "g7qOYNbEV8Gu"
      }
    },
    {
      "cell_type": "markdown",
      "source": [
        "14. How does the “in” keyword work differently for lists and dictionaries?\n",
        "> The \"in\" keyword in Python operates differently for lists and dictionaries primarily due to their underlying structures and how they store and access data.\n",
        "\n",
        "> For lists, the \"in\" keyword performs a sequential search through the elements of the list. It iterates from the beginning of the list, checking each element until it finds a match with the value being searched for or reaches the end of the list, whereas for **dictionaries**, the \"in\" keyword checks for the presence of a key within the dictionary's keys. Due to the underlying hash table implementation of dictionaries, this check is highly efficient."
      ],
      "metadata": {
        "id": "y254ZKBfWLDG"
      }
    },
    {
      "cell_type": "markdown",
      "source": [
        "15. Can you modify the elements of a tuple? Explain why or why not?\n",
        "> No, you cannot modify the elements of a tuple in Python because tuples are immutable data types. Once a tuple is created, its contents are fixed and cannot be changed, added to, or removed. This immutability is a fundamental design choice that provides data integrity, ensuring that the sequence of items within the tuple remains constant throughout the program's execution, making them suitable for representing fixed collections of related data.\n",
        "\n",
        "\n",
        "\n",
        "\n",
        "\n",
        "\n"
      ],
      "metadata": {
        "id": "KfKq764qW0Cg"
      }
    },
    {
      "cell_type": "markdown",
      "source": [
        "16. What is a nested dictionary, and give an example of its use case?\n",
        "> A nested dictionary in Python is a dictionary where the values associated with some keys are themselves dictionaries. This allows you to represent hierarchical or more complex data structures by organizing information into multiple levels of key-value pairs.\n",
        "\n",
        "A common use case for a nested dictionary is representing the structure of a university. You could have a main dictionary where the keys are department names, and the values are dictionaries containing information about each department, such as the courses offered and the faculty members."
      ],
      "metadata": {
        "id": "sxa9vcKgXEDv"
      }
    },
    {
      "cell_type": "markdown",
      "source": [
        "17. Describe the time complexity of accessing elements in a dictionary.\n",
        "> he time complexity of accessing elements (values) in a dictionary by their key is, on average, O(1), which is considered constant time. This remarkable efficiency is due to the underlying implementation of dictionaries using hash tables."
      ],
      "metadata": {
        "id": "Dlfc6R8RXlHf"
      }
    },
    {
      "cell_type": "markdown",
      "source": [
        "18. In what situations are lists preferred over dictionaries?\n",
        ">  Lists are generally preferred over dictionaries when the order of elements is significant and needs to be maintained, or when you need to access elements based on their index rather than a specific key. 1  If you have a collection of items where duplicates are allowed and their sequence matters, or if you plan to iterate through the elements in a specific order, lists are the more appropriate choice. Furthermore, if you are dealing with a simple sequence of items without unique identifiers and frequent lookups based on a key are not required, lists offer a straightforward and efficient way to store and manipulate the data."
      ],
      "metadata": {
        "id": "VgRW-5SbX7qn"
      }
    },
    {
      "cell_type": "markdown",
      "source": [
        "19. Why are dictionaries considered unordered, and how does that affect data retrieval?\n",
        "> Because the order in which key-value pairs were inserted was not guaranteed to be preserved.\n",
        "\n",
        "> This was due to their underlying implementation using hash tables, which prioritize efficient key-based access over maintaining insertion order. Consequently, when you iterated through the items of a dictionary, the order in which the key-value pairs were yielded could be arbitrary and might even change between different runs or different Python implementations. This lack of guaranteed order meant you couldn't rely on the sequence of items when retrieving data unless you specifically sorted the dictionary's keys or items."
      ],
      "metadata": {
        "id": "xRGPuCrfYTTH"
      }
    },
    {
      "cell_type": "markdown",
      "source": [
        "20. Explain the difference between a list and a dictionary in terms of data retrieval.\n",
        "> Data retrieval in lists relies on accessing elements by their numerical index, requiring a sequential scan in the worst case to find a specific value if you don't know its position, resulting in O(n) time complexity. In contrast, dictionaries enable data retrieval based on unique keys, leveraging a hashing mechanism that allows for direct access to the associated value in average O(1) time complexity. This key-based lookup in dictionaries makes retrieving specific information significantly faster and more efficient than iterating through a list, especially when dealing with large datasets where you know the unique identifier of the data you need."
      ],
      "metadata": {
        "id": "uZ5Jo1Z7YumP"
      }
    },
    {
      "cell_type": "markdown",
      "source": [
        "**PRACTICAL QUESTIONS**"
      ],
      "metadata": {
        "id": "noG_B4pUZGc3"
      }
    },
    {
      "cell_type": "code",
      "execution_count": null,
      "metadata": {
        "colab": {
          "base_uri": "https://localhost:8080/"
        },
        "id": "vCYUBcbiRrG_",
        "outputId": "105e3e9b-e8f7-4b2f-9f61-6e0f9df37c68"
      },
      "outputs": [
        {
          "output_type": "stream",
          "name": "stdout",
          "text": [
            "Mohammed Kashif Yunus\n"
          ]
        }
      ],
      "source": [
        "# 1. Write a code to create a string with your name and print it.\n",
        "my_name = \"Mohammed Kashif Yunus\"\n",
        "\n",
        "print(my_name)\n"
      ]
    },
    {
      "cell_type": "code",
      "source": [
        "# 2.  Write a code to find the length of the string \"Hello World\".\n",
        "s = \"Hello World\"\n",
        "print(len(s))\n"
      ],
      "metadata": {
        "colab": {
          "base_uri": "https://localhost:8080/"
        },
        "id": "EyjlVF02Z0EY",
        "outputId": "72c1e36c-853a-43be-cbe0-5b455a1d4f31"
      },
      "execution_count": null,
      "outputs": [
        {
          "output_type": "stream",
          "name": "stdout",
          "text": [
            "11\n"
          ]
        }
      ]
    },
    {
      "cell_type": "code",
      "source": [
        "# 3. Write a code to slice the first 3 characters from the string \"Python Programming\".\n",
        "string = \"Python Programming\"\n",
        "print(string[0:3])\n"
      ],
      "metadata": {
        "colab": {
          "base_uri": "https://localhost:8080/"
        },
        "id": "rd048123aERQ",
        "outputId": "9e33ce74-cd92-4fb6-c5e5-7dbaea606a63"
      },
      "execution_count": null,
      "outputs": [
        {
          "output_type": "stream",
          "name": "stdout",
          "text": [
            "Pyt\n"
          ]
        }
      ]
    },
    {
      "cell_type": "code",
      "source": [
        "# 4.  Write a code to convert the string \"hello\" to uppercase.\n",
        "string = \"hello\"\n",
        "print(string.upper())"
      ],
      "metadata": {
        "colab": {
          "base_uri": "https://localhost:8080/"
        },
        "id": "6OJq6fevaici",
        "outputId": "6f938bcd-9e54-4947-d436-ffff0160cdf6"
      },
      "execution_count": null,
      "outputs": [
        {
          "output_type": "stream",
          "name": "stdout",
          "text": [
            "HELLO\n"
          ]
        }
      ]
    },
    {
      "cell_type": "code",
      "source": [
        "# 5.  Write a code to replace the word \"apple\" with \"orange\" in the string \"I like apple\"\n",
        "string = \"I like apple\"\n",
        "new_string = string.replace(\"apple\", \"orange\")\n",
        "print(new_string)\n"
      ],
      "metadata": {
        "colab": {
          "base_uri": "https://localhost:8080/"
        },
        "id": "iRmTq83NakhQ",
        "outputId": "18317d01-33c5-4ea8-b151-6286ceb81cd1"
      },
      "execution_count": null,
      "outputs": [
        {
          "output_type": "stream",
          "name": "stdout",
          "text": [
            "I like orange\n"
          ]
        }
      ]
    },
    {
      "cell_type": "code",
      "source": [
        "# 6.  Write a code to create a list with numbers 1 to 5 and print it.\n",
        "my_list = [1, 2, 3, 4, 5]\n",
        "print(my_list)\n"
      ],
      "metadata": {
        "colab": {
          "base_uri": "https://localhost:8080/"
        },
        "id": "ovx5x8Djaq8Y",
        "outputId": "09e76d70-9ce4-476f-e6c9-751693dc6ffb"
      },
      "execution_count": null,
      "outputs": [
        {
          "output_type": "stream",
          "name": "stdout",
          "text": [
            "[1, 2, 3, 4, 5]\n"
          ]
        }
      ]
    },
    {
      "cell_type": "code",
      "source": [
        "# 7. Write a code to append the number 10 to the list [1, 2, 3, 4].\n",
        "my_list = [1, 2, 3, 4, 5]\n",
        "my_list.append(10)\n",
        "print(my_list)\n"
      ],
      "metadata": {
        "colab": {
          "base_uri": "https://localhost:8080/"
        },
        "id": "CBGNQ6n0a6uQ",
        "outputId": "ee4d4d99-000e-42f7-9343-72ffd93d385c"
      },
      "execution_count": null,
      "outputs": [
        {
          "output_type": "stream",
          "name": "stdout",
          "text": [
            "[1, 2, 3, 4, 5, 10]\n"
          ]
        }
      ]
    },
    {
      "cell_type": "code",
      "source": [
        "# 8.  Write a code to remove the number 3 from the list [1, 2, 3, 4, 5].\n",
        "my_list = [1, 2, 3, 4, 5]\n",
        "my_list.remove(3)\n",
        "print(my_list)\n"
      ],
      "metadata": {
        "colab": {
          "base_uri": "https://localhost:8080/"
        },
        "id": "VCI1uWHUbIk_",
        "outputId": "716f0541-02e1-43bf-f07d-ad749caca44c"
      },
      "execution_count": null,
      "outputs": [
        {
          "output_type": "stream",
          "name": "stdout",
          "text": [
            "[1, 2, 4, 5]\n"
          ]
        }
      ]
    },
    {
      "cell_type": "code",
      "source": [
        "# 9. Write a code to access the second element in the list ['a', 'b', 'c', 'd'].\n",
        "my_list = ['a', 'b', 'c', 'd']\n",
        "second_element = my_list[1]\n",
        "print(second_element)\n"
      ],
      "metadata": {
        "colab": {
          "base_uri": "https://localhost:8080/"
        },
        "id": "2Qa7fgXYbW6Q",
        "outputId": "c1e5a180-fe22-4534-f818-972112f2125b"
      },
      "execution_count": null,
      "outputs": [
        {
          "output_type": "stream",
          "name": "stdout",
          "text": [
            "b\n"
          ]
        }
      ]
    },
    {
      "cell_type": "code",
      "source": [
        "# 10. Write a code to reverse the list [10, 20, 30, 40, 50]\n",
        "my_list = [10, 20, 30, 40, 50]\n",
        "my_list.reverse()\n",
        "print(my_list)\n"
      ],
      "metadata": {
        "colab": {
          "base_uri": "https://localhost:8080/"
        },
        "id": "5E5qH2STbg-Y",
        "outputId": "9009a8fc-ca26-4c56-f1da-45adf2e796d0"
      },
      "execution_count": null,
      "outputs": [
        {
          "output_type": "stream",
          "name": "stdout",
          "text": [
            "[50, 40, 30, 20, 10]\n"
          ]
        }
      ]
    },
    {
      "cell_type": "code",
      "source": [
        "# 11.  Write a code to create a tuple with the elements 100, 200, 300 and print it.\n",
        "my_tuple = (100, 200, 300)\n",
        "print(my_tuple)\n"
      ],
      "metadata": {
        "colab": {
          "base_uri": "https://localhost:8080/"
        },
        "id": "fPhOgpcgbv5Y",
        "outputId": "096905cc-f73c-426e-cff7-e21846519767"
      },
      "execution_count": null,
      "outputs": [
        {
          "output_type": "stream",
          "name": "stdout",
          "text": [
            "(100, 200, 300)\n"
          ]
        }
      ]
    },
    {
      "cell_type": "code",
      "source": [
        "# 12.  Write a code to access the second-to-last element of the tuple ('red', 'green', 'blue', 'yellow').\n",
        "my_tuple = ('red', 'green', 'blue', 'yellow')\n",
        "second_last = my_tuple[-2]\n",
        "print(second_last)\n"
      ],
      "metadata": {
        "colab": {
          "base_uri": "https://localhost:8080/"
        },
        "id": "VEz46MPRb6Ag",
        "outputId": "1f3a2aa2-636c-4233-ba5f-b1c236874b5f"
      },
      "execution_count": null,
      "outputs": [
        {
          "output_type": "stream",
          "name": "stdout",
          "text": [
            "blue\n"
          ]
        }
      ]
    },
    {
      "cell_type": "code",
      "source": [
        "# 13.  Write a code to find the minimum number in the tuple (10, 20, 5, 15).\n",
        "my_tuple = (10, 20, 5, 15)\n",
        "min_number = min(my_tuple)\n",
        "print(min_number)\n"
      ],
      "metadata": {
        "colab": {
          "base_uri": "https://localhost:8080/"
        },
        "id": "Qa1vdevccIJI",
        "outputId": "dc55fbca-1107-4a4d-e9ac-5303d0aa1cbd"
      },
      "execution_count": null,
      "outputs": [
        {
          "output_type": "stream",
          "name": "stdout",
          "text": [
            "5\n"
          ]
        }
      ]
    },
    {
      "cell_type": "code",
      "source": [
        "# 14. Write a code to find the index of the element \"cat\" in the tuple ('dog', 'cat', 'rabbit').\n",
        "my_tuple = ('dog', 'cat', 'rabbit')\n",
        "index_ = my_tuple.index('cat')\n",
        "print(index_)\n"
      ],
      "metadata": {
        "colab": {
          "base_uri": "https://localhost:8080/"
        },
        "id": "chw13S5wcRMn",
        "outputId": "f2ca3d00-d933-4152-af39-0c484415c80e"
      },
      "execution_count": null,
      "outputs": [
        {
          "output_type": "stream",
          "name": "stdout",
          "text": [
            "1\n"
          ]
        }
      ]
    },
    {
      "cell_type": "code",
      "source": [
        "# 15. Write a code to create a tuple containing three different fruits and check if \"kiwi\" is in it.\n",
        "fruits_tuple = ('apple', 'banana', 'orange')\n",
        "is_kiwi_in = 'kiwi' in fruits_tuple\n",
        "print(is_kiwi_in)\n"
      ],
      "metadata": {
        "colab": {
          "base_uri": "https://localhost:8080/"
        },
        "id": "yNJyyqk2cdCA",
        "outputId": "dcb2a433-13bf-4177-aa90-1c9abc418a05"
      },
      "execution_count": null,
      "outputs": [
        {
          "output_type": "stream",
          "name": "stdout",
          "text": [
            "False\n"
          ]
        }
      ]
    },
    {
      "cell_type": "code",
      "source": [
        "# 16.  Write a code to create a set with the elements 'a', 'b', 'c' and print it.\n",
        "my_set = {'k', 'b', 'c'}\n",
        "print(my_set)"
      ],
      "metadata": {
        "colab": {
          "base_uri": "https://localhost:8080/"
        },
        "id": "57k3-LcEctO4",
        "outputId": "1de51a5a-02c3-437a-c932-7c10f54c3b9c"
      },
      "execution_count": null,
      "outputs": [
        {
          "output_type": "stream",
          "name": "stdout",
          "text": [
            "{'k', 'b', 'c'}\n"
          ]
        }
      ]
    },
    {
      "cell_type": "code",
      "source": [
        "# 17. Write a code to clear all elements from the set {1, 2, 3, 4, 5}.\n",
        "my_set = {1, 2, 3, 4, 5}\n",
        "my_set.clear()\n",
        "print(my_set)"
      ],
      "metadata": {
        "colab": {
          "base_uri": "https://localhost:8080/"
        },
        "id": "15rgdbu8c2m4",
        "outputId": "3ff7f7a8-0e88-4a17-f4f1-152fdcff1572"
      },
      "execution_count": null,
      "outputs": [
        {
          "output_type": "stream",
          "name": "stdout",
          "text": [
            "set()\n"
          ]
        }
      ]
    },
    {
      "cell_type": "code",
      "source": [
        "# 18.  Write a code to remove the element 4 from the set {1, 2, 3, 4}.\n",
        "my_set = {1, 2, 3, 4}\n",
        "my_set.remove(4)\n",
        "print(my_set)"
      ],
      "metadata": {
        "colab": {
          "base_uri": "https://localhost:8080/"
        },
        "id": "dRPfCfoWeDmp",
        "outputId": "b34ac9e0-29a3-4bb8-fac8-0c9c09cbb119"
      },
      "execution_count": null,
      "outputs": [
        {
          "output_type": "stream",
          "name": "stdout",
          "text": [
            "{1, 2, 3}\n"
          ]
        }
      ]
    },
    {
      "cell_type": "code",
      "source": [
        "# 19.  Write a code to find the union of two sets {1, 2, 3} and {3, 4, 5}.\n",
        "set1 = {1, 2, 3}\n",
        "set2 = {3, 4, 5}\n",
        "union_set = set1.union(set2)\n",
        "print(union_set)"
      ],
      "metadata": {
        "colab": {
          "base_uri": "https://localhost:8080/"
        },
        "id": "ogyh6NvreNEg",
        "outputId": "a297ce4d-dfa2-4a9d-d343-214cd1b6e96d"
      },
      "execution_count": null,
      "outputs": [
        {
          "output_type": "stream",
          "name": "stdout",
          "text": [
            "{1, 2, 3, 4, 5}\n"
          ]
        }
      ]
    },
    {
      "cell_type": "code",
      "source": [
        "# 20. Write a code to find the intersection of two sets {1, 2, 3} and {2, 3, 4}.\n",
        "set1 = {1, 2, 3}\n",
        "set2 = {2, 3, 4}\n",
        "intersection_set = set1.intersection(set2)\n",
        "print(intersection_set)"
      ],
      "metadata": {
        "colab": {
          "base_uri": "https://localhost:8080/"
        },
        "id": "ssXEbcfdeWmY",
        "outputId": "e90317dd-1019-49ba-b70b-a9b11bf9af93"
      },
      "execution_count": null,
      "outputs": [
        {
          "output_type": "stream",
          "name": "stdout",
          "text": [
            "{2, 3}\n"
          ]
        }
      ]
    },
    {
      "cell_type": "code",
      "source": [
        "# 21. Write a code to create a dictionary with the keys \"name\", \"age\", and \"city\", and print it.\n",
        "my_dict = {\n",
        "    \"name\": \"John Doe\",\n",
        "    \"age\": 30,\n",
        "    \"city\": \"New York\"\n",
        "}\n",
        "print(my_dict)"
      ],
      "metadata": {
        "colab": {
          "base_uri": "https://localhost:8080/"
        },
        "id": "5hA8fzi8eiO5",
        "outputId": "399ef0ff-7b2f-4a86-adda-59f6ca054bdf"
      },
      "execution_count": null,
      "outputs": [
        {
          "output_type": "stream",
          "name": "stdout",
          "text": [
            "{'name': 'John Doe', 'age': 30, 'city': 'New York'}\n"
          ]
        }
      ]
    },
    {
      "cell_type": "code",
      "source": [
        "# 22.  Write a code to add a new key-value pair \"country\": \"USA\" to the dictionary {'name': 'John', 'age': 25}.\n",
        "my_dict = {\n",
        "    \"name\": \"John Doe\",\n",
        "    \"age\": 30,\n",
        "    \"city\": \"New York\",\n",
        "    \"country\": \"USA\"\n",
        "}\n",
        "print(my_dict)"
      ],
      "metadata": {
        "colab": {
          "base_uri": "https://localhost:8080/"
        },
        "id": "vCHi46DOeu63",
        "outputId": "004c0e4e-9dec-4fb5-d427-1fb4b8b5c15a"
      },
      "execution_count": null,
      "outputs": [
        {
          "output_type": "stream",
          "name": "stdout",
          "text": [
            "{'name': 'John Doe', 'age': 30, 'city': 'New York', 'country': 'USA'}\n"
          ]
        }
      ]
    },
    {
      "cell_type": "code",
      "source": [
        "# 23.  Write a code to access the value associated with the key \"name\" in the dictionary {'name': 'Alice', 'age': 30}.\n",
        "my_dict = {\n",
        "    \"name\": \"Alice\",\n",
        "    \"age\": 30\n",
        "}\n",
        "name_value = my_dict[\"name\"]\n",
        "print(name_value)"
      ],
      "metadata": {
        "colab": {
          "base_uri": "https://localhost:8080/"
        },
        "id": "EFFplVSBe8d4",
        "outputId": "f2bd6567-2ddd-45e4-b6d2-a8f515c97f45"
      },
      "execution_count": null,
      "outputs": [
        {
          "output_type": "stream",
          "name": "stdout",
          "text": [
            "Alice\n"
          ]
        }
      ]
    },
    {
      "cell_type": "code",
      "source": [
        "# 24. Write a code to remove the key \"age\" from the dictionary {'name': 'Bob', 'age': 22, 'city': 'New York'}.\n",
        "my_dict = {\n",
        "    \"name\": \"Bob\",\n",
        "    \"age\": 22,\n",
        "    \"city\": \"New York\"\n",
        "}\n",
        "del my_dict[\"age\"]\n",
        "print(my_dict)"
      ],
      "metadata": {
        "colab": {
          "base_uri": "https://localhost:8080/"
        },
        "id": "ox_-ns4OfHqQ",
        "outputId": "15b4ccdc-cf4f-48d4-8e67-e97ce38a13a9"
      },
      "execution_count": null,
      "outputs": [
        {
          "output_type": "stream",
          "name": "stdout",
          "text": [
            "{'name': 'Bob', 'city': 'New York'}\n"
          ]
        }
      ]
    },
    {
      "cell_type": "code",
      "source": [
        "# 25. Write a code to check if the key \"city\" exists in the dictionary {'name': 'Alice', 'city': 'Paris'}.\n",
        "my_dict = {\n",
        "    \"name\": \"Alice\",\n",
        "    \"city\": \"Paris\"\n",
        "}\n",
        "if \"city\" in my_dict:\n",
        "    print(\"Key 'city' exists\")\n",
        "else:\n",
        "    print(\"Key 'city' does not exist\")"
      ],
      "metadata": {
        "colab": {
          "base_uri": "https://localhost:8080/"
        },
        "id": "3j920vigfRqw",
        "outputId": "af4bceeb-f461-4073-8234-ffca84c2b566"
      },
      "execution_count": null,
      "outputs": [
        {
          "output_type": "stream",
          "name": "stdout",
          "text": [
            "Key 'city' exists\n"
          ]
        }
      ]
    },
    {
      "cell_type": "code",
      "source": [
        "# 26. Write a code to create a list, a tuple, and a dictionary, and print them all.\n",
        "my_list = [1, 2, 3]\n",
        "my_tuple = (4, 5, 6)\n",
        "my_dict = {\"a\": 7, \"b\": 8, \"c\": 9}\n",
        "\n",
        "print(\"List:\", my_list)\n",
        "print(\"Tuple:\", my_tuple)\n",
        "print(\"Dictionary:\", my_dict)"
      ],
      "metadata": {
        "colab": {
          "base_uri": "https://localhost:8080/"
        },
        "id": "uU5ak9x6flB_",
        "outputId": "01ae95d1-5e45-4d2b-d23b-db4dd954e3b4"
      },
      "execution_count": null,
      "outputs": [
        {
          "output_type": "stream",
          "name": "stdout",
          "text": [
            "List: [1, 2, 3]\n",
            "Tuple: (4, 5, 6)\n",
            "Dictionary: {'a': 7, 'b': 8, 'c': 9}\n"
          ]
        }
      ]
    },
    {
      "cell_type": "code",
      "source": [
        "\"\"\" 27.  Write a code to create a list of 5 random numbers between 1 and 100, sort it in ascending order, and print the\n",
        "result.(replaced).\"\"\"\n",
        "import random\n",
        "random_numbers = [random.randint(1, 100) for _ in range(5)]\n",
        "random_numbers.sort()\n",
        "print(random_numbers)"
      ],
      "metadata": {
        "colab": {
          "base_uri": "https://localhost:8080/"
        },
        "id": "hrPu0AkqfvyZ",
        "outputId": "23af0482-06ea-4be2-c4f8-180f1a04ce11"
      },
      "execution_count": null,
      "outputs": [
        {
          "output_type": "stream",
          "name": "stdout",
          "text": [
            "[39, 47, 70, 72, 93]\n"
          ]
        }
      ]
    },
    {
      "cell_type": "code",
      "source": [
        "# 28. Write a code to create a list with strings and print the element at the third index.\n",
        "my_list = [\"apple\", \"banana\", \"cherry\", \"date\", \"fig\"]\n",
        "print(my_list[3])"
      ],
      "metadata": {
        "colab": {
          "base_uri": "https://localhost:8080/"
        },
        "id": "mR_vWBf4gMVH",
        "outputId": "1dafa3fa-b91d-4d42-c668-ce5fe0320594"
      },
      "execution_count": null,
      "outputs": [
        {
          "output_type": "stream",
          "name": "stdout",
          "text": [
            "date\n"
          ]
        }
      ]
    },
    {
      "cell_type": "code",
      "source": [
        "# 29. Write a code to combine two dictionaries into one and print the result.\n",
        "dict1 = {'a': 1, 'b': 2}\n",
        "dict2 = {'c': 3, 'd': 4}\n",
        "combined_dict = {**dict1, **dict2}\n",
        "print(combined_dict)"
      ],
      "metadata": {
        "colab": {
          "base_uri": "https://localhost:8080/"
        },
        "id": "wQo1E9BmgWtI",
        "outputId": "8166c1a7-5a04-4c90-9067-a851b8e4f31b"
      },
      "execution_count": null,
      "outputs": [
        {
          "output_type": "stream",
          "name": "stdout",
          "text": [
            "{'a': 1, 'b': 2, 'c': 3, 'd': 4}\n"
          ]
        }
      ]
    },
    {
      "cell_type": "code",
      "source": [
        "# 30. Write a code to convert a list of strings into a set.\n",
        "my_list = [\"apple\", \"banana\", \"cherry\", \"date\", \"fig\"]\n",
        "my_set = set(my_list)\n",
        "print(my_set)"
      ],
      "metadata": {
        "colab": {
          "base_uri": "https://localhost:8080/"
        },
        "id": "rWbJl5OKgkmI",
        "outputId": "ca2b448e-00a4-4cf7-8298-71d5e5dc2793"
      },
      "execution_count": null,
      "outputs": [
        {
          "output_type": "stream",
          "name": "stdout",
          "text": [
            "{'cherry', 'date', 'banana', 'fig', 'apple'}\n"
          ]
        }
      ]
    }
  ]
}